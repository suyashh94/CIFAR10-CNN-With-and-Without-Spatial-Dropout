{
  "nbformat": 4,
  "nbformat_minor": 0,
  "metadata": {
    "colab": {
      "name": "CIFAR10.ipynb",
      "version": "0.3.2",
      "provenance": [],
      "collapsed_sections": []
    },
    "language_info": {
      "codemirror_mode": {
        "name": "ipython",
        "version": 3
      },
      "file_extension": ".py",
      "mimetype": "text/x-python",
      "name": "python",
      "nbconvert_exporter": "python",
      "pygments_lexer": "ipython3",
      "version": "3.7.3"
    },
    "kernelspec": {
      "name": "python3",
      "display_name": "Python 3"
    },
    "accelerator": "GPU"
  },
  "cells": [
    {
      "cell_type": "code",
      "metadata": {
        "id": "4eDWnaPTH4K7",
        "colab_type": "code",
        "colab": {
          "base_uri": "https://localhost:8080/",
          "height": 34
        },
        "outputId": "50db668a-527d-4d68-dde2-4e9fed4408d2"
      },
      "source": [
        "# Import all needed libraries\n",
        "\n",
        "from __future__ import print_function\n",
        "\n",
        "import numpy as np\n",
        "import keras\n",
        "\n",
        "from keras.datasets import cifar10\n",
        "from keras.preprocessing.image import ImageDataGenerator\n",
        "from keras.models import Sequential, load_model\n",
        "from keras.layers import Input, Dense, Activation, ZeroPadding2D, BatchNormalization, Flatten, Conv2D\n",
        "from keras.layers import AveragePooling2D, MaxPooling2D, Dropout, GlobalMaxPooling2D, GlobalAveragePooling2D, SpatialDropout2D\n",
        "from keras.preprocessing import image\n",
        "from keras.utils import layer_utils\n",
        "from keras.utils.data_utils import get_file\n",
        "from keras.applications.imagenet_utils import preprocess_input\n",
        "from IPython.display import SVG\n",
        "from keras.utils.vis_utils import model_to_dot\n",
        "from keras.utils import plot_model\n",
        "import pydot\n",
        "\n",
        "import keras.backend as K\n",
        "K.set_image_data_format('channels_last')\n",
        "import matplotlib.pyplot as plt\n",
        "from matplotlib.pyplot import imshow\n",
        "\n",
        "%matplotlib inline"
      ],
      "execution_count": 1,
      "outputs": [
        {
          "output_type": "stream",
          "text": [
            "Using TensorFlow backend.\n"
          ],
          "name": "stderr"
        }
      ]
    },
    {
      "cell_type": "code",
      "metadata": {
        "id": "J8ZeaiEHH4LL",
        "colab_type": "code",
        "colab": {
          "base_uri": "https://localhost:8080/",
          "height": 122
        },
        "outputId": "7fc7011a-1f67-43fa-c05e-e53ae98a468d"
      },
      "source": [
        "# Load training and test dataset \n",
        "\n",
        "(x_train, y_train), (x_test, y_test) = cifar10.load_data()\n",
        "\n",
        "# Print shape of training and test datasets\n",
        "print('Shape of training set :' ,x_train.shape)\n",
        "print('shape of test set :', x_test.shape )\n",
        "print('shape of training_labels:', y_train.shape)\n",
        "print('shape of test labels:', y_test.shape)\n",
        "print('Number of training samples = ', x_train.shape[0])\n",
        "print('Number of test samples = ', x_test.shape[0])\n"
      ],
      "execution_count": 8,
      "outputs": [
        {
          "output_type": "stream",
          "text": [
            "Shape of training set : (50000, 32, 32, 3)\n",
            "shape of test set : (10000, 32, 32, 3)\n",
            "shape of training_labels: (50000, 1)\n",
            "shape of test labels: (10000, 1)\n",
            "Number of training samples =  50000\n",
            "Number of test samples =  10000\n"
          ],
          "name": "stdout"
        }
      ]
    },
    {
      "cell_type": "code",
      "metadata": {
        "id": "1VZNIqCHH4Ld",
        "colab_type": "code",
        "colab": {
          "base_uri": "https://localhost:8080/",
          "height": 286
        },
        "outputId": "e61558ec-9714-467f-acd3-3a07e7a5c9e0"
      },
      "source": [
        "# Visualize  training set \n",
        "training_sample = 800;                # Change this to any value between 0 to 49999 and see how different training images look like\n",
        "myImage = x_train[training_sample,:,:,:];\n",
        "imshow(myImage)\n",
        "print('This image is of class: ' , y_train[training_sample])"
      ],
      "execution_count": 3,
      "outputs": [
        {
          "output_type": "stream",
          "text": [
            "This image is of class:  [2]\n"
          ],
          "name": "stdout"
        },
        {
          "output_type": "display_data",
          "data": {
            "image/png": "[encoded data removed]",
            "text/plain": [
              "<Figure size 432x288 with 1 Axes>"
            ]
          },
          "metadata": {
            "tags": []
          }
        }
      ]
    },
    {
      "cell_type": "code",
      "metadata": {
        "id": "ae5eeqhkH4Li",
        "colab_type": "code",
        "colab": {
          "base_uri": "https://localhost:8080/",
          "height": 142
        },
        "outputId": "c743e162-ddad-4b53-97bf-8a42222b5507"
      },
      "source": [
        "# Model without spatial dropout\n",
        "\n",
        "model = Sequential([\n",
        "    \n",
        "    # Conv layer 1\n",
        "    Conv2D(filters = 32, kernel_size = (3,3), padding = 'same', strides = (1,1), kernel_initializer = keras.initializers.glorot_normal(),\n",
        "          input_shape = (x_train.shape[1:]),name = 'convlayer-1'),\n",
        "    BatchNormalization(axis = 3, name = 'bn1'),\n",
        "    Activation('relu'),\n",
        "    \n",
        "    \n",
        "    # Conv layer 2\n",
        "    Conv2D(filters = 64, kernel_size = (3,3), padding = 'same', strides = (1,1), kernel_initializer = keras.initializers.glorot_normal(),\n",
        "           name = 'convlayer-2'),\n",
        "    BatchNormalization(axis = 3, name = 'bn2'),\n",
        "    Activation('relu'),\n",
        "    MaxPooling2D((2,2)),\n",
        "    \n",
        "    # Conv layer 3\n",
        "    Conv2D(filters = 64, kernel_size = (3,3), padding = 'same', strides = (1,1),kernel_initializer = keras.initializers.glorot_normal(),name = 'convlayer-3'),\n",
        "    BatchNormalization(axis = 3, name = 'bn3'),\n",
        "    Activation('relu'),\n",
        "    MaxPooling2D((2,2)),\n",
        "    \n",
        "    # Conv layer 4\n",
        "    Conv2D(filters = 256, kernel_size = (3,3), padding = 'valid', strides = (1,1), kernel_initializer = keras.initializers.glorot_normal(),\n",
        "           name = 'convlayer-4'),\n",
        "    BatchNormalization(axis = 3, name = 'bn4'),\n",
        "    Activation('relu'),\n",
        "    MaxPooling2D((2,2)),\n",
        "    \n",
        "    # Flattening and starting of fully connected layer\n",
        "    Flatten(),\n",
        "    Dense(512, name = 'fc1'),\n",
        "    BatchNormalization(),\n",
        "    Activation('relu'),\n",
        "    Dropout(0.5),\n",
        "    \n",
        "    # Fc2 \n",
        "    Dense(256, name = 'fc2'),\n",
        "    BatchNormalization(),\n",
        "    Activation('relu'),\n",
        "    Dropout(0.5),\n",
        "    \n",
        "    # Output layer\n",
        "    Dense(10,name = 'outputLayer'),\n",
        "    BatchNormalization(),\n",
        "    Activation('softmax')\n",
        "    \n",
        "])"
      ],
      "execution_count": 4,
      "outputs": [
        {
          "output_type": "stream",
          "text": [
            "WARNING:tensorflow:From /usr/local/lib/python3.6/dist-packages/tensorflow/python/framework/op_def_library.py:263: colocate_with (from tensorflow.python.framework.ops) is deprecated and will be removed in a future version.\n",
            "Instructions for updating:\n",
            "Colocations handled automatically by placer.\n",
            "WARNING:tensorflow:From /usr/local/lib/python3.6/dist-packages/keras/backend/tensorflow_backend.py:3445: calling dropout (from tensorflow.python.ops.nn_ops) with keep_prob is deprecated and will be removed in a future version.\n",
            "Instructions for updating:\n",
            "Please use `rate` instead of `keep_prob`. Rate should be set to `rate = 1 - keep_prob`.\n"
          ],
          "name": "stdout"
        }
      ]
    },
    {
      "cell_type": "code",
      "metadata": {
        "id": "dysgOySNH4MD",
        "colab_type": "code",
        "colab": {}
      },
      "source": [
        "# Compile the model\n",
        "\n",
        "model.compile(loss='sparse_categorical_crossentropy',optimizer='adam', metrics=['accuracy'])"
      ],
      "execution_count": 0,
      "outputs": []
    },
    {
      "cell_type": "code",
      "metadata": {
        "id": "RCoXzgOqH4MX",
        "colab_type": "code",
        "colab": {}
      },
      "source": [
        "# Normalizing the train and test set\n",
        "x_train = x_train/255;\n",
        "x_test = x_test/255;\n"
      ],
      "execution_count": 0,
      "outputs": []
    },
    {
      "cell_type": "code",
      "metadata": {
        "id": "BtMjUbScH4Mk",
        "colab_type": "code",
        "colab": {}
      },
      "source": [
        "# Fit the model - Epoch 20\n",
        "\n",
        "model.fit(x = x_train, y = y_train, verbose = 1, validation_split = 0.2, epochs = 50, batch_size = 16)"
      ],
      "execution_count": 0,
      "outputs": []
    },
    {
      "cell_type": "code",
      "metadata": {
        "id": "_qc89JdbH4NF",
        "colab_type": "code",
        "colab": {
          "base_uri": "https://localhost:8080/",
          "height": 34
        },
        "outputId": "83d2110d-11ee-45ba-8665-eb4cbb9144b1"
      },
      "source": [
        "scores = model.evaluate(x_test, y_test, verbose = 1)"
      ],
      "execution_count": 12,
      "outputs": [
        {
          "output_type": "stream",
          "text": [
            "10000/10000 [==============================] - 1s 135us/step\n"
          ],
          "name": "stdout"
        }
      ]
    },
    {
      "cell_type": "code",
      "metadata": {
        "id": "_mjb61fTH4NV",
        "colab_type": "code",
        "colab": {
          "base_uri": "https://localhost:8080/",
          "height": 52
        },
        "outputId": "bf38e69e-3df7-4807-d2cb-38647572197a"
      },
      "source": [
        "print('Test loss: ', scores[0])\n",
        "print('Test Accuracy: ', scores[1])"
      ],
      "execution_count": 13,
      "outputs": [
        {
          "output_type": "stream",
          "text": [
            "Test loss:  0.7102900995731354\n",
            "Test Accuracy:  0.811\n"
          ],
          "name": "stdout"
        }
      ]
    },
    {
      "cell_type": "code",
      "metadata": {
        "id": "lo0fKIgTH4Nw",
        "colab_type": "code",
        "colab": {
          "base_uri": "https://localhost:8080/",
          "height": 34
        },
        "outputId": "8d834e83-909e-4282-8116-6c247662aa60"
      },
      "source": [
        "# Saving the model run with 50 epochs\n",
        "import os\n",
        "save_dir = os.path.join(os.getcwd(), 'CIFAR10')\n",
        "model_name = 'cifar10_epochs50_nospatialdropout.h5'\n",
        "if not os.path.isdir(save_dir):\n",
        "    os.makedirs(save_dir)\n",
        "model_path = os.path.join(save_dir, model_name)\n",
        "model.save(model_path)\n",
        "print('Saved trained model at %s ' % model_path)"
      ],
      "execution_count": 14,
      "outputs": [
        {
          "output_type": "stream",
          "text": [
            "Saved trained model at /content/CIFAR10/cifar10_epochs20_nospatialdropout.h5 \n"
          ],
          "name": "stdout"
        }
      ]
    },
    {
      "cell_type": "code",
      "metadata": {
        "id": "q6hnBM5vH4OA",
        "colab_type": "code",
        "colab": {}
      },
      "source": [
        "# Second model with spatial dropout \n",
        "\n",
        "model_1 = Sequential([\n",
        "    \n",
        "    # Conv layer 1\n",
        "    Conv2D(filters = 32, kernel_size = (3,3), padding = 'same', strides = (1,1), kernel_initializer = keras.initializers.glorot_normal(),\n",
        "          input_shape = (x_train.shape[1:]),name = 'convlayer-1'),\n",
        "    SpatialDropout2D(0.05),\n",
        "    BatchNormalization(axis = 3, name = 'bn1'),\n",
        "    Activation('relu'),\n",
        "    \n",
        "    \n",
        "    # Conv layer 2\n",
        "    Conv2D(filters = 64, kernel_size = (3,3), padding = 'same', strides = (1,1), kernel_initializer = keras.initializers.glorot_normal(),\n",
        "           name = 'convlayer-2'),\n",
        "    BatchNormalization(axis = 3, name = 'bn2'),\n",
        "    Activation('relu'),\n",
        "    SpatialDropout2D(0.1),\n",
        "    MaxPooling2D((2,2)),\n",
        "    \n",
        "    # Conv layer 3\n",
        "    Conv2D(filters = 64, kernel_size = (3,3), padding = 'same', strides = (1,1),kernel_initializer = keras.initializers.glorot_normal(),name = 'convlayer-3'),\n",
        "    BatchNormalization(axis = 3, name = 'bn3'),\n",
        "    Activation('relu'),\n",
        "    SpatialDropout2D(0.1),\n",
        "    MaxPooling2D((2,2)),\n",
        "    \n",
        "    # Conv layer 4\n",
        "    Conv2D(filters = 256, kernel_size = (3,3), padding = 'valid', strides = (1,1), kernel_initializer = keras.initializers.glorot_normal(),\n",
        "           name = 'convlayer-4'),\n",
        "    BatchNormalization(axis = 3, name = 'bn4'),\n",
        "    Activation('relu'),\n",
        "    SpatialDropout2D(0.1),\n",
        "    MaxPooling2D((2,2)),\n",
        "    \n",
        "    # Flattening and starting of fully connected layer\n",
        "    Flatten(),\n",
        "    Dense(512, name = 'fc1'),\n",
        "    BatchNormalization(),\n",
        "    Activation('relu'),\n",
        "    Dropout(0.5),\n",
        "    \n",
        "    # Fc2 \n",
        "    Dense(256, name = 'fc2'),\n",
        "    BatchNormalization(),\n",
        "    Activation('relu'),\n",
        "    Dropout(0.5),\n",
        "    \n",
        "    # Output layer\n",
        "    Dense(10,name = 'outputLayer'),\n",
        "    BatchNormalization(),\n",
        "    Activation('softmax')\n",
        "    \n",
        "])"
      ],
      "execution_count": 0,
      "outputs": []
    },
    {
      "cell_type": "code",
      "metadata": {
        "id": "mmdlM8K9H4Oa",
        "colab_type": "code",
        "colab": {}
      },
      "source": [
        "# Model Flowchart\n",
        "#model_1.summary()\n",
        "\n",
        "# Compile the model\n",
        "model_1.compile(loss='sparse_categorical_crossentropy',optimizer='adam', metrics=['accuracy'])\n",
        "\n",
        "# Fit the model - Epoch 20\n",
        "model_1.fit(x = x_train, y = y_train, verbose = 1, validation_split = 0.2, epochs = 50, batch_size = 16)\n",
        "\n"
      ],
      "execution_count": 0,
      "outputs": []
    },
    {
      "cell_type": "code",
      "metadata": {
        "id": "Zp6KQW-NH4Ot",
        "colab_type": "code",
        "colab": {
          "base_uri": "https://localhost:8080/",
          "height": 87
        },
        "outputId": "1ded8baa-7477-4533-ae90-ca15547a63b9"
      },
      "source": [
        "# Evaluate the model\n",
        "scores = model_1.evaluate(x_test, y_test, verbose = 1)\n",
        "print('Test loss: ', scores[0])\n",
        "print('Test Accuracy: ', scores[1])\n",
        "\n",
        "# Saving the model run with 50 epochs\n",
        "import os\n",
        "save_dir = os.path.join(os.getcwd(), 'CIFAR10')\n",
        "model_name = 'cifar10_epochs50_withspatialdropout.h5'\n",
        "if not os.path.isdir(save_dir):\n",
        "    os.makedirs(save_dir)\n",
        "model_path = os.path.join(save_dir, model_name)\n",
        "model_1.save(model_path)\n",
        "print('Saved trained model at %s ' % model_path)"
      ],
      "execution_count": 18,
      "outputs": [
        {
          "output_type": "stream",
          "text": [
            "10000/10000 [==============================] - 1s 133us/step\n",
            "Test loss:  0.5867330080509185\n",
            "Test Accuracy:  0.8195\n",
            "Saved trained model at /content/CIFAR10/cifar10_epochs20_withspatialdropout.h5 \n"
          ],
          "name": "stdout"
        }
      ]
    },
    {
      "cell_type": "code",
      "metadata": {
        "id": "8HcQS-rQXvSg",
        "colab_type": "code",
        "colab": {
          "base_uri": "https://localhost:8080/",
          "height": 304
        },
        "outputId": "753c5718-03ac-4af5-f87c-2ac4efb54981"
      },
      "source": [
        "test_sample = 786\n",
        "x = x_test[test_sample,:,:,:]\n",
        "imshow(x)\n",
        "\n",
        "x = np.expand_dims(x, axis=0)\n",
        "print('predicted class is:', np.argmax(model_1.predict(x)))\n",
        "print('correct_class is:', y_test[test_sample])"
      ],
      "execution_count": 21,
      "outputs": [
        {
          "output_type": "stream",
          "text": [
            "predicted class is: 3\n",
            "correct_class is: [3]\n"
          ],
          "name": "stdout"
        },
        {
          "output_type": "display_data",
          "data": {
            "image/png": "[encoded data removed]",
            "text/plain": [
              "<Figure size 432x288 with 1 Axes>"
            ]
          },
          "metadata": {
            "tags": []
          }
        }
      ]
    },
    {
      "cell_type": "code",
      "metadata": {
        "id": "FW5aaXTtY8ET",
        "colab_type": "code",
        "colab": {
          "base_uri": "https://localhost:8080/",
          "height": 410
        },
        "outputId": "7922b1e2-180d-488f-b50f-32c9bac0ee54"
      },
      "source": [
        "# Plot validation accuracy over epochs with and without spatial dropout\n",
        "plt.subplot(2,1,1).plot(model.history.history['val_acc'])\n",
        "plt.subplot(2,1,1).plot(model_1.history.history['val_acc'])\n",
        "plt.title('model accuracy')\n",
        "plt.ylabel('accuracy')\n",
        "plt.xlabel('epoch')\n",
        "plt.legend(['No Spatial Dropout', 'Spatial Dropout'], loc='lower right')\n",
        "plt.show()\n",
        "\n",
        "# Plot validation loss over epochs with and without spatial dropout\n",
        "plt.subplot(2,1,2).plot(model.history.history['val_loss'])\n",
        "plt.subplot(2,1,2).plot(model_1.history.history['val_loss'])\n",
        "plt.title('model loss')\n",
        "plt.ylabel('loss')\n",
        "plt.xlabel('epoch')\n",
        "plt.legend(['No Spatial Dropout', 'Spatial Dropout'], loc='upper left')\n",
        "plt.show()"
      ],
      "execution_count": 34,
      "outputs": [
        {
          "output_type": "stream",
          "text": [
            "/usr/local/lib/python3.6/dist-packages/matplotlib/figure.py:98: MatplotlibDeprecationWarning: \n",
            "Adding an axes using the same arguments as a previous axes currently reuses the earlier instance.  In a future version, a new instance will always be created and returned.  Meanwhile, this warning can be suppressed, and the future behavior ensured, by passing a unique label to each axes instance.\n",
            "  \"Adding an axes using the same arguments as a previous axes \"\n"
          ],
          "name": "stderr"
        },
        {
          "output_type": "display_data",
          "data": {
            "image/png": "[encoded data removed]",
            "text/plain": [
              "<Figure size 432x288 with 1 Axes>"
            ]
          },
          "metadata": {
            "tags": []
          }
        },
        {
          "output_type": "display_data",
          "data": {
            "image/png": "[encoded data removed]",
            "text/plain": [
              "<Figure size 432x288 with 1 Axes>"
            ]
          },
          "metadata": {
            "tags": []
          }
        }
      ]
    }
  ]
}